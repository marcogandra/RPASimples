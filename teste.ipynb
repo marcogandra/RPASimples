{
 "metadata": {
  "language_info": {
   "codemirror_mode": {
    "name": "ipython",
    "version": 3
   },
   "file_extension": ".py",
   "mimetype": "text/x-python",
   "name": "python",
   "nbconvert_exporter": "python",
   "pygments_lexer": "ipython3",
   "version": "3.8.5"
  },
  "orig_nbformat": 2,
  "kernelspec": {
   "name": "python385jvsc74a57bd077aa4c2e7d785d17a525d89f1b00162f0669aa8f3eab33cf6951cd9df0d4c907",
   "display_name": "Python   ('venv': virtualenv)"
  },
  "metadata": {
   "interpreter": {
    "hash": "77aa4c2e7d785d17a525d89f1b00162f0669aa8f3eab33cf6951cd9df0d4c907"
   }
  }
 },
 "nbformat": 4,
 "nbformat_minor": 2,
 "cells": [
  {
   "cell_type": "code",
   "execution_count": 2,
   "metadata": {},
   "outputs": [
    {
     "output_type": "execute_result",
     "data": {
      "text/plain": [
       "Point(x=1661, y=19)"
      ]
     },
     "metadata": {},
     "execution_count": 2
    }
   ],
   "source": [
    "import pyautogui as gui\n",
    "gui.position()"
   ]
  },
  {
   "cell_type": "code",
   "execution_count": 3,
   "metadata": {},
   "outputs": [
    {
     "output_type": "execute_result",
     "data": {
      "text/plain": [
       "Size(width=1680, height=1050)"
      ]
     },
     "metadata": {},
     "execution_count": 3
    }
   ],
   "source": [
    "gui.size()\n"
   ]
  }
 ]
}